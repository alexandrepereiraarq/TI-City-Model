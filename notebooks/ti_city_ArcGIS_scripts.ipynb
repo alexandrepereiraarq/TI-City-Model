{
 "cells": [
  {
   "cell_type": "code",
   "execution_count": null,
   "metadata": {
    "vscode": {
     "languageId": "plaintext"
    }
   },
   "outputs": [],
   "source": [
    "import arcpy, os\n",
    "\n",
    "#import \n",
    "model_inputs_TIFF30m_path = r\"D:\\Dropbox\\x\\PostDoc\\23 10 LMU\\13 exp_cases\\24 01 Urban SSP MAN MUM JAK\\05_GIS_temp\\MAN\\model_inputs\\TIFF_30m\"\n",
    "model_inputs_TIFF150m_path = r\"D:\\Dropbox\\x\\PostDoc\\23 10 LMU\\13 exp_cases\\24 01 Urban SSP MAN MUM JAK\\05_GIS_temp\\MAN\\model_inputs\\TIFF_150m\"\n",
    "model_inputs_ASCII150m_path = r\"D:\\Dropbox\\x\\PostDoc\\ASCII_150m\"\n",
    "case_city = 'MAN'\n",
    "real_estate_file = '_ECO_real_estate_EBK_Lamuidi_reclass_2024_30m.tif'\n",
    "\n",
    "arcpy.env.workspace = model_inputs_TIFF30m_path\n",
    "resolution = 150\n",
    "nn_list  = [case_city + real_estate_file,\n",
    "            case_city + '_LIM_districts_GADM4_30m.tif',\n",
    "            case_city + '_LIM_exclusion_layer_30m.tif',\n",
    "            case_city + '_POP_census_income_2015_30m.tif',\n",
    "            case_city + '_TRA_roads_OSM_2024_L_all_30m.tif',\n",
    "            case_city + '_URB_tenure_2016_MMRDA_30m.tif', \n",
    "            case_city + '_URB_urbanisation_1985_EOC_WUF_30m.tif', \n",
    "            case_city + '_URB_urbanisation_2000_EOC_WUF_30m.tif', \n",
    "            case_city + '_URB_urbanisation_2015_EOC_WUF_30m.tif']\n",
    "cubic_list = [case_city + '_DEM_slope_pct_30m.tif', \n",
    "              case_city + '_LIM_districts_GADM4_30m.tif',\n",
    "              case_city + '_LOC_airports_OSM_2024_distance_normal_30m.tif', \n",
    "              case_city + '_LOC_CBDs_OSM_2024_distance_normal_30m.tif', \n",
    "              case_city + '_LOC_health_OSM_2024_distance_normal_30m.tif', \n",
    "              case_city + '_LOC_malls_OSM_2024_distance_normal_30m.tif', \n",
    "              case_city + '_LOC_markets_OSM_2024_distance_normal_30m.tif', \n",
    "              case_city + '_LOC_schools_OSM_2024_distance_normal_30m.tif', \n",
    "              case_city + '_LOC_suburban_centres_OSM_2024_distance_normal_30m.tif',\n",
    "              case_city + '_POP_density_normal_2000_WDPop_30m.tif', \n",
    "              case_city + '_POP_density_normal_2015_WDPop_30m.tif', \n",
    "              case_city + '_TRA_attractive_areas_OSM_2024_P_distance_normal_30m.tif',\n",
    "              case_city + '_TRA_distance_to_major_roads_30m.tif', \n",
    "              case_city + '_URB_distance_urbanisation_2000_EOC_WUF_30m.tif', \n",
    "              case_city + '_URB_distance_urbanisation_2015_EOC_WUF_30m.tif']\n",
    "raster_list = list(arcpy.ListRasters (\"*\"+case_city+\"_*\", \"TIF\"))\n",
    "print('There are ',len(raster_list),' rasters in the 30m input folder.\\n And a total of ',\n",
    "      len(nn_list)+len(cubic_list),' in the lists (',len(nn_list),'NN & ',len(cubic_list),'cubic)')\n",
    "for r in raster_list:\n",
    "    print(r)\n",
    "\n",
    "    "
   ]
  },
  {
   "cell_type": "code",
   "execution_count": null,
   "metadata": {
    "vscode": {
     "languageId": "plaintext"
    }
   },
   "outputs": [],
   "source": [
    "# resample rasters in the cubic_list using resampling_type=\"CUBIC\" and those in nn_list using  resampling_type=\"NEAREST\" \n",
    "out_folder = model_inputs_TIFF150m_path\n",
    "snap_raster = case_city + \"_LIM_raster_reference_150m.tif\"\n",
    "\n",
    "with arcpy.EnvManager(snapRaster=snap_raster):\n",
    "    for r in arcpy.ListRasters (\"*\"+case_city+\"_*\", \"TIF\"): #\"*\"+case_city+\"_*\", \"TIF\"\n",
    "        out_file = r.replace('_30m','_{0}m'.format(resolution))\n",
    "        out_raster = os.path.join(out_folder, out_file)\n",
    "        #print(out_raster)\n",
    "        if r in nn_list:\n",
    "            try:\n",
    "                arcpy.Resample_management(in_raster=r, out_raster=out_raster, cell_size=str(resolution), resampling_type=\"NEAREST\")\n",
    "                print(r,'succeeded')\n",
    "            except:\n",
    "                print('**Error with',r)\n",
    "        elif r in cubic_list:\n",
    "            try:\n",
    "                arcpy.Resample_management(in_raster=r, out_raster=out_raster, cell_size=str(resolution), resampling_type=\"CUBIC\")\n",
    "                print(r,'succeeded')\n",
    "            except:\n",
    "                print('**Error with',r)\n",
    "            #normal_list = normal_list.append(r)\n",
    "print(\"Finished.\")"
   ]
  },
  {
   "cell_type": "code",
   "execution_count": null,
   "metadata": {
    "vscode": {
     "languageId": "plaintext"
    }
   },
   "outputs": [],
   "source": [
    "arcpy.env.workspace = model_inputs_TIFF150m_path\n",
    "raster_150_list = list(arcpy.ListRasters (\"*150m*\", \"TIF\"))\n",
    "print('the number of rasters is', len(raster_150_list),'\\n')\n",
    "for r in raster_150_list:\n",
    "    print(r)"
   ]
  },
  {
   "cell_type": "code",
   "execution_count": null,
   "metadata": {
    "vscode": {
     "languageId": "plaintext"
    }
   },
   "outputs": [],
   "source": [
    "out_folder =  model_inputs_ASCII150m_path # the folder path cannot have spaces in it\n",
    "arcpy.env.workspace = model_inputs_TIFF150m_path\n",
    "\n",
    "resolution = 150\n",
    "\n",
    "with arcpy.EnvManager(snapRaster=\"MAN_LIM_raster_reference_150m.tif\"):\n",
    "     for r in arcpy.ListRasters (\"*150m*\", \"TIF\"): #MAN_POP_\n",
    "            out_ascii_file = os.path.join(out_folder, r.replace('.tif','.asc'))\n",
    "            print('TIFF file:',r,\n",
    "                  '\\nASCI file:',out_ascii_file)\n",
    "            try:\n",
    "                arcpy.conversion.RasterToASCII(r, out_ascii_file)\n",
    "            except:\n",
    "                print('****Failed****, skipping.')\n",
    "      \n",
    "    \n",
    "     print('Finished.')"
   ]
  },
  {
   "cell_type": "code",
   "execution_count": null,
   "metadata": {
    "vscode": {
     "languageId": "plaintext"
    }
   },
   "outputs": [],
   "source": []
  }
 ],
 "metadata": {
  "language_info": {
   "name": "python"
  }
 },
 "nbformat": 4,
 "nbformat_minor": 2
}
