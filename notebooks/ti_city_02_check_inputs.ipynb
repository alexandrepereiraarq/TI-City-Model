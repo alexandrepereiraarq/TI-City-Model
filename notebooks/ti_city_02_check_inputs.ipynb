{
 "cells": [
  {
   "cell_type": "markdown",
   "metadata": {},
   "source": [
    "### Authorship\n",
    "@author: Alexandre Pereira Santos <br>\n",
    "alexandre.santos(at)lmu.de<br>\n",
    "- uses OSMNx, pandas, geopandas, rasterio\n",
    "- may include content from ChatGPT or GitHub Copilot\n",
    "\n",
    "### Tasks:\n",
    "Create data quality control functions for the model inputs\n",
    "- Check and remove null values\n",
    "- Check negative values\n",
    "- Correct errors from the upscaling done in ArcGIS\n",
    "\n",
    "### Features\n",
    "Roadmap betweem 10-18.10.2024:\n",
    "1. [x] Test if errors arise from negative values (e.g. NaN set to -9999)\n",
    "2. [x] Check slope values above the reasonable range (i.e., beyond 200%)\n",
    "3. [x] Check the density2015 raster for anything odd (error raised when subtracting it from 1)\n",
    "4. [x] Create input-loading tests in NetLogo\n",
    "5. [x] Re-normalise values after ArcGIS upscaling\n",
    "6. [x] Reproduce the model's math operations in Python\n",
    "\n",
    "Roadmap between 21-25.10.2024:\n",
    "1. [X] Check data format requirements from the NetLogo GIS extension\n",
    "2. [X] Test displaying the values from a continuous var in NetLogo\n",
    "2. [X] Check projection system settings in NetLogo GIS extension\n",
    "3. [X] Create toy model to load inputs independent of other model features\n",
    "4. [ ] Raster stack (netcdf) to be sure of registration, transform, etc. Get a raster summary (stats) from each layer.\n",
    "5. [X] Check divisions by zero in the TI-C code\n"
   ]
  },
  {
   "cell_type": "markdown",
   "metadata": {},
   "source": [
    "# Imports"
   ]
  },
  {
   "cell_type": "code",
   "execution_count": 1,
   "metadata": {},
   "outputs": [],
   "source": [
    "import pandas as pd\n",
    "import geopandas as gpd\n",
    "\n",
    "import os\n",
    "from pathlib import Path\n",
    "import fnmatch\n",
    "import shutil\n",
    "\n",
    "import numpy as np\n",
    "import matplotlib.pyplot as plt\n",
    "import matplotlib.colors as mcolors\n",
    "import matplotlib.patches as mpatches\n",
    "\n",
    "from shapely.geometry.polygon import Polygon\n",
    "from shapely.geometry import MultiLineString, LineString\n",
    "import json\n",
    "\n",
    "import rasterio\n",
    "from rasterio import features\n",
    "from rasterio.warp import reproject, calculate_default_transform, Resampling\n",
    "from rasterio.mask import mask\n",
    "from rasterio.plot import show, show_hist\n",
    "from scipy.ndimage import distance_transform_edt\n",
    "\n",
    "import ee\n",
    "import geemap\n",
    "import logging\n",
    "\n",
    "import random "
   ]
  },
  {
   "cell_type": "markdown",
   "metadata": {},
   "source": [
    "# init"
   ]
  },
  {
   "cell_type": "code",
   "execution_count": 2,
   "metadata": {},
   "outputs": [
    {
     "data": {
      "text/html": [
       "\n",
       "            <style>\n",
       "                .geemap-dark {\n",
       "                    --jp-widgets-color: white;\n",
       "                    --jp-widgets-label-color: white;\n",
       "                    --jp-ui-font-color1: white;\n",
       "                    --jp-layout-color2: #454545;\n",
       "                    background-color: #383838;\n",
       "                }\n",
       "\n",
       "                .geemap-dark .jupyter-button {\n",
       "                    --jp-layout-color3: #383838;\n",
       "                }\n",
       "\n",
       "                .geemap-colab {\n",
       "                    background-color: var(--colab-primary-surface-color, white);\n",
       "                }\n",
       "\n",
       "                .geemap-colab .jupyter-button {\n",
       "                    --jp-layout-color3: var(--colab-primary-surface-color, white);\n",
       "                }\n",
       "            </style>\n",
       "            "
      ],
      "text/plain": [
       "<IPython.core.display.HTML object>"
      ]
     },
     "metadata": {},
     "output_type": "display_data"
    }
   ],
   "source": [
    "#input a vector and a raster file for each city\n",
    "AOI_path = Path('../data/processed/')\n",
    "MUM_file = 'MUM_LIM_reference_AOI_30m.shp' # APS: updated AOI 01.08.2024\n",
    "MAN_file = 'MAN_LIM_reference_AOI_30m.shp' # APS: updated AOI 01.11.2024\n",
    "JAK_file = 'JAK_LIM_reference_AOI_30m.shp' # APS: updated AOI 23.08.2024\n",
    "#  the 'case_city' variable defines the city we are working on. APS: Need to update the code below to change it from MUM to the variable name\n",
    "\n",
    "case_city = 'MAN' #MUM MAN JAK\n",
    "\n",
    "if case_city == 'MUM':\n",
    "    \n",
    "    AOI_gdf = gpd.read_file(AOI_path / MUM_file) #.to_crs(epsg=4326)\n",
    "    AOI_gdf_4326 = AOI_gdf.to_crs(epsg=4326) \n",
    "\n",
    "    ref_raster_path = Path('../data/processed/MUM_LIM_reference_AOI_30m.tif')\n",
    "    ref_raster_150_path = Path('../data/processed/MUM_LIM_reference_AOI_150m.tif')\n",
    "\n",
    "    raw_path = Path(r'D:\\\\Dropbox\\\\x\\\\PostDoc\\\\23 10 LMU\\\\13 exp_cases\\\\24 01 Urban SSP MAN MUM JAK\\\\05_GIS_temp\\\\MUM\\\\raw\\\\')\n",
    "    interim_path = Path(r'D:\\\\Dropbox\\\\x\\\\PostDoc\\\\23 10 LMU\\\\13 exp_cases\\\\24 01 Urban SSP MAN MUM JAK\\\\05_GIS_temp\\\\MUM\\\\interim\\\\')\n",
    "    processed_path = Path(r'D:\\\\Dropbox\\\\x\\\\PostDoc\\\\23 10 LMU\\\\13 exp_cases\\\\24 01 Urban SSP MAN MUM JAK\\\\05_GIS_temp\\\\MUM\\\\processed\\\\')\n",
    "    external_path = Path(r'D:\\\\Dropbox\\\\x\\\\PostDoc\\\\23 10 LMU\\\\13 exp_cases\\\\24 01 Urban SSP MAN MUM JAK\\\\05_GIS_temp\\\\MUM\\\\external\\\\')\n",
    "    model_inputs_30m_path = Path(r'D:\\\\Dropbox\\\\x\\\\PostDoc\\\\23 10 LMU\\\\13 exp_cases\\\\24 01 Urban SSP MAN MUM JAK\\\\05_GIS_temp\\\\MUM\\\\model_inputs\\\\TIFF_30m\\\\')\n",
    "    model_inputs_150m_path = Path(r'D:\\\\Dropbox\\\\x\\\\PostDoc\\\\23 10 LMU\\\\13 exp_cases\\\\24 01 Urban SSP MAN MUM JAK\\\\05_GIS_temp\\\\MUM\\\\model_inputs\\\\TIFF_150m\\\\')\n",
    "    ascii150_path = Path(r'D:\\\\Dropbox\\\\x\\\\PostDoc\\\\23 10 LMU\\\\13 exp_cases\\\\24 01 Urban SSP MAN MUM JAK\\\\05_GIS_temp\\\\MUM\\\\model_inputs\\\\ASCII_150m')\n",
    "    ti_city_ascii_path = Path('../model/MUM/data/in/')\n",
    "\n",
    "    gadm_var = 'NAME_3'\n",
    "\n",
    "if case_city == 'MAN':\n",
    "    \n",
    "    AOI_gdf = gpd.read_file(AOI_path / MAN_file) #.to_crs(epsg=4326)\n",
    "    AOI_gdf_4326 = AOI_gdf.to_crs(epsg=4326) \n",
    "\n",
    "    ref_raster_path = Path('../data/processed/MAN_LIM_reference_AOI_30m.tif')\n",
    "    ref_raster_150_path = Path('../data/processed/MAN_LIM_reference_AOI_150m.tif')\n",
    "\n",
    "    raw_path = Path(r'D:\\\\Dropbox\\\\x\\\\PostDoc\\\\23 10 LMU\\\\13 exp_cases\\\\24 01 Urban SSP MAN MUM JAK\\\\05_GIS_temp\\\\MAN\\\\raw\\\\')\n",
    "    interim_path = Path(r'D:\\\\Dropbox\\\\x\\\\PostDoc\\\\23 10 LMU\\\\13 exp_cases\\\\24 01 Urban SSP MAN MUM JAK\\\\05_GIS_temp\\\\MAN\\\\interim\\\\')\n",
    "    processed_path = Path(r'D:\\\\Dropbox\\\\x\\\\PostDoc\\\\23 10 LMU\\\\13 exp_cases\\\\24 01 Urban SSP MAN MUM JAK\\\\05_GIS_temp\\\\MAN\\\\processed\\\\')\n",
    "    external_path = Path(r'D:\\\\Dropbox\\\\x\\\\PostDoc\\\\23 10 LMU\\\\13 exp_cases\\\\24 01 Urban SSP MAN MUM JAK\\\\05_GIS_temp\\\\MAN\\\\external\\\\')\n",
    "    model_inputs_30m_path = Path(r'D:\\\\Dropbox\\\\x\\\\PostDoc\\\\23 10 LMU\\\\13 exp_cases\\\\24 01 Urban SSP MAN MUM JAK\\\\05_GIS_temp\\\\MAN\\\\model_inputs\\\\TIFF_30m\\\\')\n",
    "    model_inputs_150m_path = Path(r'D:\\\\Dropbox\\\\x\\\\PostDoc\\\\23 10 LMU\\\\13 exp_cases\\\\24 01 Urban SSP MAN MUM JAK\\\\05_GIS_temp\\\\MAN\\\\model_inputs\\\\TIFF_150m\\\\')\n",
    "    ascii150_path = Path(r'D:\\\\Dropbox\\\\x\\\\PostDoc\\\\23 10 LMU\\\\13 exp_cases\\\\24 01 Urban SSP MAN MUM JAK\\\\05_GIS_temp\\\\MAN\\\\model_inputs\\\\ASCII_150m')\n",
    "    ti_city_ascii_path = Path('../model/MAN/data/in/')\n",
    "\n",
    "    gadm_var = 'NAME_2'\n",
    "\n",
    "if case_city == 'JAK':\n",
    "    \n",
    "    AOI_gdf = gpd.read_file(AOI_path / JAK_file) #.to_crs(epsg=4326)\n",
    "    AOI_gdf_4326 = AOI_gdf.to_crs(epsg=4326) \n",
    "\n",
    "    ref_raster_path = Path('../data/processed/JAK_LIM_reference_AOI_30m.tif')\n",
    "    ref_raster_150_path = Path('../data/processed/JAK_LIM_reference_AOI_150m.tif')\n",
    "\n",
    "    raw_path = Path(r'D:\\\\Dropbox\\\\x\\\\PostDoc\\\\23 10 LMU\\\\13 exp_cases\\\\24 01 Urban SSP MAN MUM JAK\\\\05_GIS_temp\\\\JAK\\\\raw\\\\')\n",
    "    interim_path = Path(r'D:\\\\Dropbox\\\\x\\\\PostDoc\\\\23 10 LMU\\\\13 exp_cases\\\\24 01 Urban SSP MAN MUM JAK\\\\05_GIS_temp\\\\JAK\\\\interim\\\\')\n",
    "    processed_path = Path(r'D:\\\\Dropbox\\\\x\\\\PostDoc\\\\23 10 LMU\\\\13 exp_cases\\\\24 01 Urban SSP MAN MUM JAK\\\\05_GIS_temp\\\\JAK\\\\processed\\\\')\n",
    "    external_path = Path(r'D:\\\\Dropbox\\\\x\\\\PostDoc\\\\23 10 LMU\\\\13 exp_cases\\\\24 01 Urban SSP MAN MUM JAK\\\\05_GIS_temp\\\\JAK\\\\external\\\\')\n",
    "    model_inputs_30m_path = Path(r'D:\\\\Dropbox\\\\x\\\\PostDoc\\\\23 10 LMU\\\\13 exp_cases\\\\24 01 Urban SSP MAN MUM JAK\\\\05_GIS_temp\\\\JAK\\\\model_inputs\\\\TIFF_30m\\\\')\n",
    "    model_inputs_150m_path = Path(r'D:\\\\Dropbox\\\\x\\\\PostDoc\\\\23 10 LMU\\\\13 exp_cases\\\\24 01 Urban SSP MAN MUM JAK\\\\05_GIS_temp\\\\JAK\\\\model_inputs\\\\TIFF_150m\\\\')\n",
    "    ascii150_path = Path(r'D:\\\\Dropbox\\\\x\\\\PostDoc\\\\23 10 LMU\\\\13 exp_cases\\\\24 01 Urban SSP MAN MUM JAK\\\\05_GIS_temp\\\\JAK\\\\model_inputs\\\\ASCII_150m')\n",
    "    ti_city_ascii_path = Path('../model/JAK/data/in/')\n",
    "\n",
    "    gadm_var = 'NAME_2'\n",
    "\n",
    "external_data_path = Path(r'D:\\\\Dropbox\\\\x\\\\_data')\n",
    "ascii150_arcgis_path = Path(r\"D:\\\\Dropbox\\\\x\\\\PostDoc\\ASCII_150m\")\n",
    "\n",
    "def getFeatures(gdf):\n",
    "    #Function to parse features from GeoDataFrame in such a manner that rasterio wants them\n",
    "    return [json.loads(gdf.to_json())['features'][0]['geometry']]\n",
    "\n",
    "def get_transform(raster):\n",
    "    transform = raster.transform\n",
    "    cell_width = transform[0]\n",
    "    cell_height = -transform[4]\n",
    "    area = cell_height*cell_width\n",
    "    return cell_height, cell_width, area\n",
    "\n",
    "# read the reference raster\n",
    "with rasterio.open(ref_raster_path,'r') as src:\n",
    "    ref_raster = src\n",
    "    ref_meta = src.meta\n",
    "    ref_height, ref_width, ref_area = get_transform(ref_raster)\n",
    "\n",
    "%run ./ti_city_00_raster_functions.ipynb\n",
    "\n",
    "# suppress deprecation warnings\n",
    "def warn(*args, **kwargs):\n",
    "    pass\n",
    "import warnings\n",
    "warnings.warn = warn"
   ]
  },
  {
   "cell_type": "markdown",
   "metadata": {},
   "source": [
    "# 1. Checking raster quality:\n",
    "- negative values\n",
    "- dimensions"
   ]
  },
  {
   "cell_type": "code",
   "execution_count": 3,
   "metadata": {},
   "outputs": [
    {
     "data": {
      "text/html": [
       "\n",
       "            <style>\n",
       "                .geemap-dark {\n",
       "                    --jp-widgets-color: white;\n",
       "                    --jp-widgets-label-color: white;\n",
       "                    --jp-ui-font-color1: white;\n",
       "                    --jp-layout-color2: #454545;\n",
       "                    background-color: #383838;\n",
       "                }\n",
       "\n",
       "                .geemap-dark .jupyter-button {\n",
       "                    --jp-layout-color3: #383838;\n",
       "                }\n",
       "\n",
       "                .geemap-colab {\n",
       "                    background-color: var(--colab-primary-surface-color, white);\n",
       "                }\n",
       "\n",
       "                .geemap-colab .jupyter-button {\n",
       "                    --jp-layout-color3: var(--colab-primary-surface-color, white);\n",
       "                }\n",
       "            </style>\n",
       "            "
      ],
      "text/plain": [
       "<IPython.core.display.HTML object>"
      ]
     },
     "metadata": {},
     "output_type": "display_data"
    },
    {
     "name": "stdout",
     "output_type": "stream",
     "text": [
      "MAN_DEM_slope_pct_TanDEM_X_150m.tif\n",
      "MAN_ECO_real_estate_EBK_Lamudi_reclass_2024_150m.tif\n",
      "MAN_HYD_water_distance_150m.tif\n",
      "MAN_LIM_districts_GADM4_150m.tif\n",
      "MAN_LIM_exclusion_layer_150m.tif\n",
      "MAN_LIM_non_residential_areas_150m.tif\n",
      "MAN_LOC_airports_cost_OSM_2024.tif\n",
      "MAN_LOC_attractive_areas_cost_OSM_2024.tif\n",
      "MAN_LOC_CBDs_cost_OSM_2024.tif\n",
      "MAN_LOC_health_cost_OSM_2024.tif\n",
      "MAN_LOC_malls_cost_OSM_2024.tif\n",
      "MAN_LOC_markets_cost_OSM_2024.tif\n",
      "MAN_LOC_schools_cost_OSM_2024.tif\n",
      "MAN_LOC_suburban_centres_cost_OSM_2024.tif\n",
      "MAN_POP_density_normal_2000_WDPop_150m.tif\n",
      "MAN_POP_density_normal_2015_WDPop_150m.tif\n",
      "MAN_TRA_roads_OSM_2024_L_all_150m.tif\n",
      "MAN_TRA_roads_OSM_2024_L_distance_normal_150m.tif\n",
      "MAN_URB_distance_urbanisation_2000_EOC_WUF_150m.tif\n",
      "MAN_URB_distance_urbanisation_2015_EOC_WUF_150m.tif\n",
      "MAN_URB_tenure_150m.tif\n",
      "MAN_URB_urbanisation_1985_EOC_WUF_150m.tif\n",
      "MAN_URB_urbanisation_2000_EOC_WUF_150m.tif\n",
      "MAN_URB_urbanisation_2015_EOC_WUF_150m.tif\n"
     ]
    }
   ],
   "source": [
    "if case_city == 'MUM':\n",
    "    real_estate_path = 'MUM_ECO_real_estate_sale_LePetit_extended_2019_150m.tif'\n",
    "if case_city == 'JAK':\n",
    "    real_estate_path = 'JAK_ECO_real_estate_sale_LePetit_extended_2019_150m.tif'\n",
    "if case_city == 'MAN':\n",
    "    real_estate_path = 'MAN_ECO_real_estate_EBK_Lamudi_reclass_2024_150m.tif'\n",
    "\n",
    "discrete_list  = [real_estate_path,\n",
    "                  case_city + '_LIM_districts_GADM4_150m.tif',\n",
    "                  case_city + '_LIM_exclusion_layer_150m.tif',\n",
    "                  #case_city + '_POP_census_income_150m.tif',\n",
    "                  case_city + '_TRA_roads_OSM_2024_L_all_150m.tif',\n",
    "                  case_city + '_URB_tenure_150m.tif',\n",
    "                  case_city + '_URB_urbanisation_1985_EOC_WUF_150m.tif',\n",
    "                  case_city + '_URB_urbanisation_2000_EOC_WUF_150m.tif',\n",
    "                  case_city + '_URB_urbanisation_2015_EOC_WUF_150m.tif',\n",
    "                  case_city + '_LIM_non_residential_areas_150m.tif']\n",
    "continuous_list = [case_city + '_LOC_airports_cost_OSM_2024.tif', # APS: until 06/03/2025 '_LOC_airports_OSM_2024_distance_normal_150m.tif',\n",
    "                   case_city + '_LOC_attractive_areas_cost_OSM_2024.tif', # APS: until 06/03/2025 '_LOC_attractive_areas_OSM_2024_distance_normal_150m.tif',\n",
    "                   case_city + '_LOC_CBDs_cost_OSM_2024.tif', # APS: until 06/03/2025 '_LOC_CBDs_OSM_2024_distance_normal_150m.tif', \n",
    "                   case_city + '_LOC_health_cost_OSM_2024.tif', # APS: until 06/03/2025 '_LOC_health_OSM_2024_distance_normal_150m.tif',  \n",
    "                   case_city + '_LOC_malls_cost_OSM_2024.tif', # APS: until 06/03/2025 '_LOC_malls_OSM_2024_distance_normal_150m.tif',\n",
    "                   case_city + '_LOC_markets_cost_OSM_2024.tif', # APS: until 06/03/2025 '_LOC_markets_OSM_2024_distance_normal_150m.tif',\n",
    "                   case_city + '_LOC_schools_cost_OSM_2024.tif', # APS: until 06/03/2025 '_LOC_schools_OSM_2024_distance_normal_150m.tif',\n",
    "                   case_city + '_LOC_suburban_centres_cost_OSM_2024.tif', # APS: until 06/03/2025 '_LOC_suburban_centres_OSM_2024_distance_normal_150m.tif',\n",
    "                   case_city + '_POP_density_normal_2000_WDPop_150m.tif',\n",
    "                   case_city + '_POP_density_normal_2015_WDPop_150m.tif',\n",
    "                   case_city + '_TRA_roads_OSM_2024_L_distance_normal_150m.tif',\n",
    "                   case_city + '_URB_distance_urbanisation_2000_EOC_WUF_150m.tif',\n",
    "                   case_city + '_URB_distance_urbanisation_2015_EOC_WUF_150m.tif',\n",
    "                   case_city + '_HYD_water_distance_150m.tif']\n",
    "slope_list=[case_city + '_DEM_slope_pct_TanDEM_X_150m.tif']\n",
    "\n",
    "raster_list = [raster for raster in os.listdir(model_inputs_150m_path) if raster.endswith('.tif')]\n",
    "for r in raster_list:\n",
    "    print(r)"
   ]
  },
  {
   "cell_type": "markdown",
   "metadata": {},
   "source": [
    "### Checking negative values"
   ]
  },
  {
   "cell_type": "code",
   "execution_count": 4,
   "metadata": {},
   "outputs": [
    {
     "data": {
      "text/html": [
       "\n",
       "            <style>\n",
       "                .geemap-dark {\n",
       "                    --jp-widgets-color: white;\n",
       "                    --jp-widgets-label-color: white;\n",
       "                    --jp-ui-font-color1: white;\n",
       "                    --jp-layout-color2: #454545;\n",
       "                    background-color: #383838;\n",
       "                }\n",
       "\n",
       "                .geemap-dark .jupyter-button {\n",
       "                    --jp-layout-color3: #383838;\n",
       "                }\n",
       "\n",
       "                .geemap-colab {\n",
       "                    background-color: var(--colab-primary-surface-color, white);\n",
       "                }\n",
       "\n",
       "                .geemap-colab .jupyter-button {\n",
       "                    --jp-layout-color3: var(--colab-primary-surface-color, white);\n",
       "                }\n",
       "            </style>\n",
       "            "
      ],
      "text/plain": [
       "<IPython.core.display.HTML object>"
      ]
     },
     "metadata": {},
     "output_type": "display_data"
    },
    {
     "name": "stdout",
     "output_type": "stream",
     "text": [
      "checking the Discrete list\n",
      "checking the Slope list\n",
      "checking the Discrete list\n",
      "rasters to remove negative values from: []\n"
     ]
    }
   ],
   "source": [
    "negative_list = []\n",
    "print('checking the Discrete list')\n",
    "for r in discrete_list:    \n",
    "    with rasterio.open(model_inputs_150m_path/r) as raster:\n",
    "        array = raster.read(1)\n",
    "        if np.nanmin(array) < 0:\n",
    "            print(r, 'has negative values')\n",
    "            array = np.where(array < 0, 0, array)\n",
    "            negative_list.append(r)\n",
    "print('checking the Slope list')\n",
    "for r in slope_list:\n",
    "    with rasterio.open(model_inputs_150m_path/r) as raster:\n",
    "        array = raster.read(1)\n",
    "        if np.nanmin(array) < 0:\n",
    "            print(r, 'has negative values')\n",
    "            array = np.where(array < 0, 0, array)\n",
    "            negative_list.append(r)\n",
    "# check for nan values as -9999 and convert them to 0\n",
    "print('checking the Discrete list')\n",
    "for r in discrete_list:\n",
    "    with rasterio.open(model_inputs_150m_path/r) as raster:\n",
    "        array = raster.read(1)\n",
    "        if np.isnan(array).any():\n",
    "            print(r, 'Has NaN as -9999')\n",
    "            array = np.where(np.nanmin(array) == -9999, 0, array)\n",
    "            negative_list.append(r)\n",
    "print('rasters to remove negative values from:', negative_list)"
   ]
  },
  {
   "cell_type": "code",
   "execution_count": 5,
   "metadata": {},
   "outputs": [
    {
     "data": {
      "text/html": [
       "\n",
       "            <style>\n",
       "                .geemap-dark {\n",
       "                    --jp-widgets-color: white;\n",
       "                    --jp-widgets-label-color: white;\n",
       "                    --jp-ui-font-color1: white;\n",
       "                    --jp-layout-color2: #454545;\n",
       "                    background-color: #383838;\n",
       "                }\n",
       "\n",
       "                .geemap-dark .jupyter-button {\n",
       "                    --jp-layout-color3: #383838;\n",
       "                }\n",
       "\n",
       "                .geemap-colab {\n",
       "                    background-color: var(--colab-primary-surface-color, white);\n",
       "                }\n",
       "\n",
       "                .geemap-colab .jupyter-button {\n",
       "                    --jp-layout-color3: var(--colab-primary-surface-color, white);\n",
       "                }\n",
       "            </style>\n",
       "            "
      ],
      "text/plain": [
       "<IPython.core.display.HTML object>"
      ]
     },
     "metadata": {},
     "output_type": "display_data"
    },
    {
     "name": "stdout",
     "output_type": "stream",
     "text": [
      "MAN_DEM_slope_pct_TanDEM_X_150m.tif dimensions are good.\n",
      "MAN_ECO_real_estate_EBK_Lamudi_reclass_2024_150m.tif dimensions are good.\n",
      "MAN_HYD_water_distance_150m.tif dimensions are good.\n",
      "MAN_LIM_districts_GADM4_150m.tif dimensions are good.\n",
      "MAN_LIM_exclusion_layer_150m.tif dimensions are good.\n",
      "MAN_LIM_non_residential_areas_150m.tif dimensions are good.\n",
      "MAN_LOC_airports_cost_OSM_2024.tif dimensions are good.\n",
      "MAN_LOC_attractive_areas_cost_OSM_2024.tif dimensions are good.\n",
      "MAN_LOC_CBDs_cost_OSM_2024.tif dimensions are good.\n",
      "MAN_LOC_health_cost_OSM_2024.tif dimensions are good.\n",
      "MAN_LOC_malls_cost_OSM_2024.tif dimensions are good.\n",
      "MAN_LOC_markets_cost_OSM_2024.tif dimensions are good.\n",
      "MAN_LOC_schools_cost_OSM_2024.tif dimensions are good.\n",
      "MAN_LOC_suburban_centres_cost_OSM_2024.tif dimensions are good.\n",
      "MAN_POP_density_normal_2000_WDPop_150m.tif dimensions are good.\n",
      "MAN_POP_density_normal_2015_WDPop_150m.tif dimensions are good.\n",
      "MAN_TRA_roads_OSM_2024_L_all_150m.tif dimensions are good.\n",
      "MAN_TRA_roads_OSM_2024_L_distance_normal_150m.tif dimensions are good.\n",
      "MAN_URB_distance_urbanisation_2000_EOC_WUF_150m.tif dimensions are good.\n",
      "MAN_URB_distance_urbanisation_2015_EOC_WUF_150m.tif dimensions are good.\n",
      "MAN_URB_tenure_150m.tif dimensions are good.\n",
      "MAN_URB_urbanisation_1985_EOC_WUF_150m.tif dimensions are good.\n",
      "MAN_URB_urbanisation_2000_EOC_WUF_150m.tif dimensions are good.\n",
      "MAN_URB_urbanisation_2015_EOC_WUF_150m.tif dimensions are good.\n",
      "Rasters to reproject: []\n"
     ]
    }
   ],
   "source": [
    "# check the raster dimensions to make sure they are the same\n",
    "reproject_raster_list = []\n",
    "\n",
    "for raster in raster_list:\n",
    "    with rasterio.open(model_inputs_150m_path/raster, 'r') as r:\n",
    "        \n",
    "        with rasterio.open(ref_raster_150_path, 'r') as ref_raster:\n",
    "            if r.width != ref_raster.width:\n",
    "                print('***',raster, 'has a different **width** from the reference with',r.width, '(versus',ref_raster.width, 'in the reference).')\n",
    "                reproject_raster_list.append(raster)\n",
    "                if r.height != ref_raster.height:\n",
    "                    print('***',raster, 'has a different **height** from the reference with',r.height, '(versus',ref_raster.height, 'in the reference).')\n",
    "            elif r.height != ref_raster.height:\n",
    "                print('***',raster, 'has a different **height** from the reference with',r.height, '(versus',ref_raster.height, 'in the reference).')\n",
    "                reproject_raster_list.append(raster)\n",
    "            else: print(raster, 'dimensions are good.')\n",
    "print('Rasters to reproject:', reproject_raster_list)     \n",
    "        "
   ]
  },
  {
   "cell_type": "markdown",
   "metadata": {},
   "source": [
    "# 2. Normalizing continuous values"
   ]
  },
  {
   "cell_type": "code",
   "execution_count": 40,
   "metadata": {},
   "outputs": [
    {
     "data": {
      "text/html": [
       "\n",
       "            <style>\n",
       "                .geemap-dark {\n",
       "                    --jp-widgets-color: white;\n",
       "                    --jp-widgets-label-color: white;\n",
       "                    --jp-ui-font-color1: white;\n",
       "                    --jp-layout-color2: #454545;\n",
       "                    background-color: #383838;\n",
       "                }\n",
       "\n",
       "                .geemap-dark .jupyter-button {\n",
       "                    --jp-layout-color3: #383838;\n",
       "                }\n",
       "\n",
       "                .geemap-colab {\n",
       "                    background-color: var(--colab-primary-surface-color, white);\n",
       "                }\n",
       "\n",
       "                .geemap-colab .jupyter-button {\n",
       "                    --jp-layout-color3: var(--colab-primary-surface-color, white);\n",
       "                }\n",
       "            </style>\n",
       "            "
      ],
      "text/plain": [
       "<IPython.core.display.HTML object>"
      ]
     },
     "metadata": {},
     "output_type": "display_data"
    },
    {
     "name": "stdout",
     "output_type": "stream",
     "text": [
      "D:\\Dropbox\\x\\PostDoc\\23 10 LMU\\13 exp_cases\\24 01 Urban SSP MAN MUM JAK\\05_GIS_temp\\MAN\\model_inputs\\TIFF_150m\\MAN_LOC_airports_cost_OSM_2024_new_150m.tif\n",
      "D:\\Dropbox\\x\\PostDoc\\23 10 LMU\\13 exp_cases\\24 01 Urban SSP MAN MUM JAK\\05_GIS_temp\\MAN\\model_inputs\\TIFF_150m\\MAN_LOC_attractive_areas_cost_OSM_2024_new_150m.tif\n",
      "D:\\Dropbox\\x\\PostDoc\\23 10 LMU\\13 exp_cases\\24 01 Urban SSP MAN MUM JAK\\05_GIS_temp\\MAN\\model_inputs\\TIFF_150m\\MAN_LOC_CBDs_cost_OSM_2024_new_150m.tif\n",
      "D:\\Dropbox\\x\\PostDoc\\23 10 LMU\\13 exp_cases\\24 01 Urban SSP MAN MUM JAK\\05_GIS_temp\\MAN\\model_inputs\\TIFF_150m\\MAN_LOC_health_cost_OSM_2024_new_150m.tif\n",
      "D:\\Dropbox\\x\\PostDoc\\23 10 LMU\\13 exp_cases\\24 01 Urban SSP MAN MUM JAK\\05_GIS_temp\\MAN\\model_inputs\\TIFF_150m\\MAN_LOC_malls_cost_OSM_2024_new_150m.tif\n",
      "D:\\Dropbox\\x\\PostDoc\\23 10 LMU\\13 exp_cases\\24 01 Urban SSP MAN MUM JAK\\05_GIS_temp\\MAN\\model_inputs\\TIFF_150m\\MAN_LOC_markets_cost_OSM_2024_new_150m.tif\n",
      "D:\\Dropbox\\x\\PostDoc\\23 10 LMU\\13 exp_cases\\24 01 Urban SSP MAN MUM JAK\\05_GIS_temp\\MAN\\model_inputs\\TIFF_150m\\MAN_LOC_schools_cost_OSM_2024_new_150m.tif\n",
      "D:\\Dropbox\\x\\PostDoc\\23 10 LMU\\13 exp_cases\\24 01 Urban SSP MAN MUM JAK\\05_GIS_temp\\MAN\\model_inputs\\TIFF_150m\\MAN_LOC_suburban_centres_cost_OSM_2024_new_150m.tif\n",
      "D:\\Dropbox\\x\\PostDoc\\23 10 LMU\\13 exp_cases\\24 01 Urban SSP MAN MUM JAK\\05_GIS_temp\\MAN\\model_inputs\\TIFF_150m\\MAN_POP_density_normal_2000_WDPop_150m_new_150m.tif\n",
      "D:\\Dropbox\\x\\PostDoc\\23 10 LMU\\13 exp_cases\\24 01 Urban SSP MAN MUM JAK\\05_GIS_temp\\MAN\\model_inputs\\TIFF_150m\\MAN_POP_density_normal_2015_WDPop_150m_new_150m.tif\n",
      "D:\\Dropbox\\x\\PostDoc\\23 10 LMU\\13 exp_cases\\24 01 Urban SSP MAN MUM JAK\\05_GIS_temp\\MAN\\model_inputs\\TIFF_150m\\MAN_TRA_roads_OSM_2024_L_distance_normal_150m_new_150m.tif\n",
      "D:\\Dropbox\\x\\PostDoc\\23 10 LMU\\13 exp_cases\\24 01 Urban SSP MAN MUM JAK\\05_GIS_temp\\MAN\\model_inputs\\TIFF_150m\\MAN_URB_distance_urbanisation_2000_EOC_WUF_150m_new_150m.tif\n",
      "D:\\Dropbox\\x\\PostDoc\\23 10 LMU\\13 exp_cases\\24 01 Urban SSP MAN MUM JAK\\05_GIS_temp\\MAN\\model_inputs\\TIFF_150m\\MAN_URB_distance_urbanisation_2015_EOC_WUF_150m_new_150m.tif\n",
      "D:\\Dropbox\\x\\PostDoc\\23 10 LMU\\13 exp_cases\\24 01 Urban SSP MAN MUM JAK\\05_GIS_temp\\MAN\\model_inputs\\TIFF_150m\\MAN_HYD_water_distance_150m_new_150m.tif\n",
      "done\n"
     ]
    }
   ],
   "source": [
    "for r in continuous_list:\n",
    "    with rasterio.open(model_inputs_150m_path/r, 'r') as raster:\n",
    "        array = raster.read(1)\n",
    "        try:\n",
    "            array = np.where(np.isnan(array), 0, array)\n",
    "            array = np.where(array < 0, 0, array)\n",
    "            array = (array - np.nanmin(array))/(np.nanmax(array) - np.nanmin(array))\n",
    "            array = np.round(array,3)\n",
    "            #[0 if i < 0 else i for i in array]\n",
    "            array = np.where(array < 0, 0, array)\n",
    "        except Exception as e:\n",
    "            print('error in raster', r, '\\nerror',e)\n",
    "        #plot_continuous_raster(array, r)\n",
    "        # export the normalised array as a raster\n",
    "        new_name = str(r.split('.')[0] + '_new_150m.tif')\n",
    "        export_geotiff(raster = array,\n",
    "                    out_transform = raster.transform, \n",
    "                    out_meta = raster.meta,\n",
    "                    export_path = model_inputs_150m_path/new_name,\n",
    "                    data_type=rasterio.float64)\n",
    "        # rename the existing raster with '_old\"\n",
    "    try:\n",
    "        # move the old raster to the '_old' folder and rename the new raster\n",
    "        old_folder = model_inputs_150m_path / '_old'\n",
    "        old_folder.mkdir(exist_ok=True)\n",
    "        old_raster = old_folder/r\n",
    "        if os.path.exists(old_raster): os.remove(old_raster)\n",
    "        path_as_string = str(model_inputs_150m_path / r)\n",
    "        shutil.move(model_inputs_150m_path/r, old_folder/r)\n",
    "\n",
    "        new_raster_old_name = model_inputs_150m_path / new_name\n",
    "        new_raster_new_name = Path(path_as_string)\n",
    "        new_raster_old_name.rename(new_raster_new_name)\n",
    "      \n",
    "    except Exception as e:\n",
    "        print('error in raster', r, '\\nerror',e)\n",
    "print('done')"
   ]
  },
  {
   "cell_type": "code",
   "execution_count": 39,
   "metadata": {},
   "outputs": [
    {
     "data": {
      "text/html": [
       "\n",
       "            <style>\n",
       "                .geemap-dark {\n",
       "                    --jp-widgets-color: white;\n",
       "                    --jp-widgets-label-color: white;\n",
       "                    --jp-ui-font-color1: white;\n",
       "                    --jp-layout-color2: #454545;\n",
       "                    background-color: #383838;\n",
       "                }\n",
       "\n",
       "                .geemap-dark .jupyter-button {\n",
       "                    --jp-layout-color3: #383838;\n",
       "                }\n",
       "\n",
       "                .geemap-colab {\n",
       "                    background-color: var(--colab-primary-surface-color, white);\n",
       "                }\n",
       "\n",
       "                .geemap-colab .jupyter-button {\n",
       "                    --jp-layout-color3: var(--colab-primary-surface-color, white);\n",
       "                }\n",
       "            </style>\n",
       "            "
      ],
      "text/plain": [
       "<IPython.core.display.HTML object>"
      ]
     },
     "metadata": {},
     "output_type": "display_data"
    },
    {
     "name": "stderr",
     "output_type": "stream",
     "text": [
      "C:\\Users\\ra42zek\\AppData\\Local\\Temp\\ipykernel_17440\\2293176581.py:7: RuntimeWarning: invalid value encountered in divide\n",
      "  array = (array - np.nanmin(array))/(np.nanmax(array) - np.nanmin(array))\n"
     ]
    },
    {
     "name": "stdout",
     "output_type": "stream",
     "text": [
      "Min value: nan , Max value: nan\n"
     ]
    },
    {
     "data": {
      "image/png": "[encoded data removed]",
      "text/plain": [
       "<Figure size 500x500 with 2 Axes>"
      ]
     },
     "metadata": {},
     "output_type": "display_data"
    }
   ],
   "source": [
    "# APS 06/03/2025: checkiung the airport and attractive areas individually\n",
    "r = continuous_list[2]\n",
    "r_path = model_inputs_150m_path/r\n",
    "with rasterio.open(r_path, 'r') as raster:\n",
    "    array = raster.read(1)\n",
    "    array = np.where(np.isnan(array), 0, array)\n",
    "    array = (array - np.nanmin(array))/(np.nanmax(array) - np.nanmin(array))\n",
    "    array = np.round(array,3).astype(np.float64)\n",
    "    array = np.where(array < 0, 0, array)\n",
    "    plot_continuous_raster(array, r)"
   ]
  },
  {
   "cell_type": "markdown",
   "metadata": {},
   "source": [
    "# 3. Correct negative values"
   ]
  },
  {
   "cell_type": "code",
   "execution_count": 41,
   "metadata": {},
   "outputs": [
    {
     "data": {
      "text/html": [
       "\n",
       "            <style>\n",
       "                .geemap-dark {\n",
       "                    --jp-widgets-color: white;\n",
       "                    --jp-widgets-label-color: white;\n",
       "                    --jp-ui-font-color1: white;\n",
       "                    --jp-layout-color2: #454545;\n",
       "                    background-color: #383838;\n",
       "                }\n",
       "\n",
       "                .geemap-dark .jupyter-button {\n",
       "                    --jp-layout-color3: #383838;\n",
       "                }\n",
       "\n",
       "                .geemap-colab {\n",
       "                    background-color: var(--colab-primary-surface-color, white);\n",
       "                }\n",
       "\n",
       "                .geemap-colab .jupyter-button {\n",
       "                    --jp-layout-color3: var(--colab-primary-surface-color, white);\n",
       "                }\n",
       "            </style>\n",
       "            "
      ],
      "text/plain": [
       "<IPython.core.display.HTML object>"
      ]
     },
     "metadata": {},
     "output_type": "display_data"
    }
   ],
   "source": [
    "%run ./ti_city_00_raster_functions.ipynb\n",
    "for raster in negative_list: \n",
    "    check_negative_raster(\n",
    "        r = raster, \n",
    "        path=model_inputs_150m_path,\n",
    "        ref_raster_path = ref_raster_150_path)"
   ]
  },
  {
   "cell_type": "code",
   "execution_count": 42,
   "metadata": {},
   "outputs": [
    {
     "data": {
      "text/html": [
       "\n",
       "            <style>\n",
       "                .geemap-dark {\n",
       "                    --jp-widgets-color: white;\n",
       "                    --jp-widgets-label-color: white;\n",
       "                    --jp-ui-font-color1: white;\n",
       "                    --jp-layout-color2: #454545;\n",
       "                    background-color: #383838;\n",
       "                }\n",
       "\n",
       "                .geemap-dark .jupyter-button {\n",
       "                    --jp-layout-color3: #383838;\n",
       "                }\n",
       "\n",
       "                .geemap-colab {\n",
       "                    background-color: var(--colab-primary-surface-color, white);\n",
       "                }\n",
       "\n",
       "                .geemap-colab .jupyter-button {\n",
       "                    --jp-layout-color3: var(--colab-primary-surface-color, white);\n",
       "                }\n",
       "            </style>\n",
       "            "
      ],
      "text/plain": [
       "<IPython.core.display.HTML object>"
      ]
     },
     "metadata": {},
     "output_type": "display_data"
    }
   ],
   "source": [
    "# if needed, co-register the raster to the reference raster\n",
    "for r in reproject_raster_list:\n",
    "    new_name = str(r.split('.')[0] + '_new_150m.tif')\n",
    "    outfile = model_inputs_150m_path / new_name\n",
    "\n",
    "    if raster in set(continuous_list):\n",
    "        reproj_match(infile = model_inputs_150m_path/raster, \n",
    "                 match = ref_raster_150_path, \n",
    "                 outfile = outfile, \n",
    "                 resampling=Resampling.bilinear)\n",
    "    elif raster in set(continuous_list):\n",
    "        reproj_match(infile = model_inputs_150m_path/raster, \n",
    "                    match = ref_raster_150_path, \n",
    "                    outfile = outfile, \n",
    "                    resampling=Resampling.nearest)\n",
    "    try:\n",
    "        # move the old raster to the '_old' folder and rename the new raster\n",
    "        old_folder = model_inputs_150m_path / '_old'\n",
    "        old_folder.mkdir(exist_ok=True)\n",
    "        old_raster = old_folder/r\n",
    "        if os.path.exists(old_raster): os.remove(old_raster)\n",
    "        path_as_string = str(model_inputs_150m_path / r)\n",
    "        shutil.move(model_inputs_150m_path/r, old_folder/r)\n",
    "\n",
    "        new_raster_old_name = model_inputs_150m_path / new_name\n",
    "        new_raster_new_name = Path(path_as_string)\n",
    "        new_raster_old_name.rename(new_raster_new_name)\n",
    "      \n",
    "    except Exception as e:\n",
    "        print(e)"
   ]
  },
  {
   "cell_type": "markdown",
   "metadata": {},
   "source": [
    "# 4. Export TIFFs as ASCIIs"
   ]
  },
  {
   "cell_type": "code",
   "execution_count": 43,
   "metadata": {},
   "outputs": [
    {
     "data": {
      "text/html": [
       "\n",
       "            <style>\n",
       "                .geemap-dark {\n",
       "                    --jp-widgets-color: white;\n",
       "                    --jp-widgets-label-color: white;\n",
       "                    --jp-ui-font-color1: white;\n",
       "                    --jp-layout-color2: #454545;\n",
       "                    background-color: #383838;\n",
       "                }\n",
       "\n",
       "                .geemap-dark .jupyter-button {\n",
       "                    --jp-layout-color3: #383838;\n",
       "                }\n",
       "\n",
       "                .geemap-colab {\n",
       "                    background-color: var(--colab-primary-surface-color, white);\n",
       "                }\n",
       "\n",
       "                .geemap-colab .jupyter-button {\n",
       "                    --jp-layout-color3: var(--colab-primary-surface-color, white);\n",
       "                }\n",
       "            </style>\n",
       "            "
      ],
      "text/plain": [
       "<IPython.core.display.HTML object>"
      ]
     },
     "metadata": {},
     "output_type": "display_data"
    },
    {
     "name": "stdout",
     "output_type": "stream",
     "text": [
      "MAN_DEM_slope_pct_TanDEM_X_150m.asc <class 'str'>\n",
      "('float32',)\n",
      "float32\n",
      "MAN_ECO_real_estate_EBK_Lamudi_reclass_2024_150m.asc <class 'str'>\n",
      "('int16',)\n",
      "int16\n"
     ]
    }
   ],
   "source": [
    "for raster in raster_list[:2]: \n",
    "    print(raster.replace('.tif', '.asc'),  type(raster.replace('.tif', '.asc')))\n",
    "    with rasterio.open(model_inputs_150m_path/raster, 'r') as r:\n",
    "        print(r.dtypes)\n",
    "        array = r.read(1)\n",
    "        print(array.dtype)"
   ]
  },
  {
   "cell_type": "code",
   "execution_count": 44,
   "metadata": {},
   "outputs": [
    {
     "data": {
      "text/html": [
       "\n",
       "            <style>\n",
       "                .geemap-dark {\n",
       "                    --jp-widgets-color: white;\n",
       "                    --jp-widgets-label-color: white;\n",
       "                    --jp-ui-font-color1: white;\n",
       "                    --jp-layout-color2: #454545;\n",
       "                    background-color: #383838;\n",
       "                }\n",
       "\n",
       "                .geemap-dark .jupyter-button {\n",
       "                    --jp-layout-color3: #383838;\n",
       "                }\n",
       "\n",
       "                .geemap-colab {\n",
       "                    background-color: var(--colab-primary-surface-color, white);\n",
       "                }\n",
       "\n",
       "                .geemap-colab .jupyter-button {\n",
       "                    --jp-layout-color3: var(--colab-primary-surface-color, white);\n",
       "                }\n",
       "            </style>\n",
       "            "
      ],
      "text/plain": [
       "<IPython.core.display.HTML object>"
      ]
     },
     "metadata": {},
     "output_type": "display_data"
    },
    {
     "name": "stdout",
     "output_type": "stream",
     "text": [
      "D:\\Dropbox\\x\\PostDoc\\23 10 LMU\\13 exp_cases\\24 01 Urban SSP MAN MUM JAK\\05_GIS_temp\\MAN\\model_inputs\\ASCII_150m\\MAN_DEM_slope_pct_TanDEM_X_150m.asc exported\n",
      "D:\\Dropbox\\x\\PostDoc\\23 10 LMU\\13 exp_cases\\24 01 Urban SSP MAN MUM JAK\\05_GIS_temp\\MAN\\model_inputs\\ASCII_150m\\MAN_ECO_real_estate_EBK_Lamudi_reclass_2024_150m.asc exported\n",
      "D:\\Dropbox\\x\\PostDoc\\23 10 LMU\\13 exp_cases\\24 01 Urban SSP MAN MUM JAK\\05_GIS_temp\\MAN\\model_inputs\\ASCII_150m\\MAN_HYD_water_distance_150m.asc exported\n",
      "D:\\Dropbox\\x\\PostDoc\\23 10 LMU\\13 exp_cases\\24 01 Urban SSP MAN MUM JAK\\05_GIS_temp\\MAN\\model_inputs\\ASCII_150m\\MAN_LIM_districts_GADM4_150m.asc exported\n",
      "D:\\Dropbox\\x\\PostDoc\\23 10 LMU\\13 exp_cases\\24 01 Urban SSP MAN MUM JAK\\05_GIS_temp\\MAN\\model_inputs\\ASCII_150m\\MAN_LIM_exclusion_layer_150m.asc exported\n",
      "D:\\Dropbox\\x\\PostDoc\\23 10 LMU\\13 exp_cases\\24 01 Urban SSP MAN MUM JAK\\05_GIS_temp\\MAN\\model_inputs\\ASCII_150m\\MAN_LIM_non_residential_areas_150m.asc exported\n",
      "D:\\Dropbox\\x\\PostDoc\\23 10 LMU\\13 exp_cases\\24 01 Urban SSP MAN MUM JAK\\05_GIS_temp\\MAN\\model_inputs\\ASCII_150m\\MAN_LOC_airports_cost_OSM_2024.asc exported\n",
      "D:\\Dropbox\\x\\PostDoc\\23 10 LMU\\13 exp_cases\\24 01 Urban SSP MAN MUM JAK\\05_GIS_temp\\MAN\\model_inputs\\ASCII_150m\\MAN_LOC_attractive_areas_cost_OSM_2024.asc exported\n",
      "D:\\Dropbox\\x\\PostDoc\\23 10 LMU\\13 exp_cases\\24 01 Urban SSP MAN MUM JAK\\05_GIS_temp\\MAN\\model_inputs\\ASCII_150m\\MAN_LOC_CBDs_cost_OSM_2024.asc exported\n",
      "D:\\Dropbox\\x\\PostDoc\\23 10 LMU\\13 exp_cases\\24 01 Urban SSP MAN MUM JAK\\05_GIS_temp\\MAN\\model_inputs\\ASCII_150m\\MAN_LOC_health_cost_OSM_2024.asc exported\n",
      "D:\\Dropbox\\x\\PostDoc\\23 10 LMU\\13 exp_cases\\24 01 Urban SSP MAN MUM JAK\\05_GIS_temp\\MAN\\model_inputs\\ASCII_150m\\MAN_LOC_malls_cost_OSM_2024.asc exported\n",
      "D:\\Dropbox\\x\\PostDoc\\23 10 LMU\\13 exp_cases\\24 01 Urban SSP MAN MUM JAK\\05_GIS_temp\\MAN\\model_inputs\\ASCII_150m\\MAN_LOC_markets_cost_OSM_2024.asc exported\n",
      "D:\\Dropbox\\x\\PostDoc\\23 10 LMU\\13 exp_cases\\24 01 Urban SSP MAN MUM JAK\\05_GIS_temp\\MAN\\model_inputs\\ASCII_150m\\MAN_LOC_schools_cost_OSM_2024.asc exported\n",
      "D:\\Dropbox\\x\\PostDoc\\23 10 LMU\\13 exp_cases\\24 01 Urban SSP MAN MUM JAK\\05_GIS_temp\\MAN\\model_inputs\\ASCII_150m\\MAN_LOC_suburban_centres_cost_OSM_2024.asc exported\n",
      "D:\\Dropbox\\x\\PostDoc\\23 10 LMU\\13 exp_cases\\24 01 Urban SSP MAN MUM JAK\\05_GIS_temp\\MAN\\model_inputs\\ASCII_150m\\MAN_POP_density_normal_2000_WDPop_150m.asc exported\n",
      "D:\\Dropbox\\x\\PostDoc\\23 10 LMU\\13 exp_cases\\24 01 Urban SSP MAN MUM JAK\\05_GIS_temp\\MAN\\model_inputs\\ASCII_150m\\MAN_POP_density_normal_2015_WDPop_150m.asc exported\n",
      "D:\\Dropbox\\x\\PostDoc\\23 10 LMU\\13 exp_cases\\24 01 Urban SSP MAN MUM JAK\\05_GIS_temp\\MAN\\model_inputs\\ASCII_150m\\MAN_TRA_roads_OSM_2024_L_all_150m.asc exported\n",
      "D:\\Dropbox\\x\\PostDoc\\23 10 LMU\\13 exp_cases\\24 01 Urban SSP MAN MUM JAK\\05_GIS_temp\\MAN\\model_inputs\\ASCII_150m\\MAN_TRA_roads_OSM_2024_L_distance_normal_150m.asc exported\n",
      "D:\\Dropbox\\x\\PostDoc\\23 10 LMU\\13 exp_cases\\24 01 Urban SSP MAN MUM JAK\\05_GIS_temp\\MAN\\model_inputs\\ASCII_150m\\MAN_URB_distance_urbanisation_2000_EOC_WUF_150m.asc exported\n",
      "D:\\Dropbox\\x\\PostDoc\\23 10 LMU\\13 exp_cases\\24 01 Urban SSP MAN MUM JAK\\05_GIS_temp\\MAN\\model_inputs\\ASCII_150m\\MAN_URB_distance_urbanisation_2015_EOC_WUF_150m.asc exported\n",
      "D:\\Dropbox\\x\\PostDoc\\23 10 LMU\\13 exp_cases\\24 01 Urban SSP MAN MUM JAK\\05_GIS_temp\\MAN\\model_inputs\\ASCII_150m\\MAN_URB_tenure_150m.asc exported\n",
      "D:\\Dropbox\\x\\PostDoc\\23 10 LMU\\13 exp_cases\\24 01 Urban SSP MAN MUM JAK\\05_GIS_temp\\MAN\\model_inputs\\ASCII_150m\\MAN_URB_urbanisation_1985_EOC_WUF_150m.asc exported\n",
      "D:\\Dropbox\\x\\PostDoc\\23 10 LMU\\13 exp_cases\\24 01 Urban SSP MAN MUM JAK\\05_GIS_temp\\MAN\\model_inputs\\ASCII_150m\\MAN_URB_urbanisation_2000_EOC_WUF_150m.asc exported\n",
      "D:\\Dropbox\\x\\PostDoc\\23 10 LMU\\13 exp_cases\\24 01 Urban SSP MAN MUM JAK\\05_GIS_temp\\MAN\\model_inputs\\ASCII_150m\\MAN_URB_urbanisation_2015_EOC_WUF_150m.asc exported\n",
      "done\n"
     ]
    }
   ],
   "source": [
    "%run ./ti_city_00_raster_functions.ipynb\n",
    "for raster in raster_list: \n",
    "    file_name = str(raster.replace('.tif', '.asc'))\n",
    "    export_path = ascii150_path / file_name\n",
    "    try:\n",
    "        with rasterio.open(model_inputs_150m_path/raster, 'r') as r:\n",
    "            export_raster_to_ascii(raster_obj = r.read(1),                             \n",
    "                                export_path = export_path, \n",
    "                                ref_raster_path = ref_raster_150_path,\n",
    "                                raster_data_type=r.dtypes[0])\n",
    "    except Exception as e:\n",
    "        print(e)\n",
    "    print(str(export_path), 'exported')\n",
    "print('done')"
   ]
  },
  {
   "cell_type": "markdown",
   "metadata": {},
   "source": [
    "# 5. Rename resampled ASCII files"
   ]
  },
  {
   "cell_type": "code",
   "execution_count": 45,
   "metadata": {},
   "outputs": [
    {
     "data": {
      "text/html": [
       "\n",
       "            <style>\n",
       "                .geemap-dark {\n",
       "                    --jp-widgets-color: white;\n",
       "                    --jp-widgets-label-color: white;\n",
       "                    --jp-ui-font-color1: white;\n",
       "                    --jp-layout-color2: #454545;\n",
       "                    background-color: #383838;\n",
       "                }\n",
       "\n",
       "                .geemap-dark .jupyter-button {\n",
       "                    --jp-layout-color3: #383838;\n",
       "                }\n",
       "\n",
       "                .geemap-colab {\n",
       "                    background-color: var(--colab-primary-surface-color, white);\n",
       "                }\n",
       "\n",
       "                .geemap-colab .jupyter-button {\n",
       "                    --jp-layout-color3: var(--colab-primary-surface-color, white);\n",
       "                }\n",
       "            </style>\n",
       "            "
      ],
      "text/plain": [
       "<IPython.core.display.HTML object>"
      ]
     },
     "metadata": {},
     "output_type": "display_data"
    },
    {
     "data": {
      "text/plain": [
       "['airport.asc',\n",
       " 'attractive2000.asc',\n",
       " 'attractive2015.asc',\n",
       " 'bu2000_dist.asc',\n",
       " 'bu2015_dist.asc',\n",
       " 'cbd.asc',\n",
       " 'density2000.asc',\n",
       " 'density2015.asc',\n",
       " 'districts.asc',\n",
       " 'exclusion.asc',\n",
       " 'exclusion_ssp1.asc',\n",
       " 'exclusion_ssp2.asc',\n",
       " 'exclusion_ssp3.asc',\n",
       " 'healthfacilities.asc',\n",
       " 'landvalue.asc',\n",
       " 'markets.asc',\n",
       " 'road-presence.asc',\n",
       " 'roads.asc',\n",
       " 'schools.asc',\n",
       " 'shoppingmalls.asc',\n",
       " 'slope.asc',\n",
       " 'structureplan.asc',\n",
       " 'suburban.asc',\n",
       " 'tenure.asc',\n",
       " 'urban2000.asc',\n",
       " 'urban2015.asc',\n",
       " 'water.asc']"
      ]
     },
     "execution_count": 45,
     "metadata": {},
     "output_type": "execute_result"
    }
   ],
   "source": [
    "# list all the files in the working dir\n",
    "\n",
    "ti_city_files = []\n",
    "for file in os.listdir(ti_city_ascii_path):\n",
    "    if fnmatch.fnmatch(file, '*.asc'):\n",
    "        ti_city_files.append(file)\n",
    "ti_city_files"
   ]
  },
  {
   "cell_type": "code",
   "execution_count": 46,
   "metadata": {},
   "outputs": [
    {
     "data": {
      "text/html": [
       "\n",
       "            <style>\n",
       "                .geemap-dark {\n",
       "                    --jp-widgets-color: white;\n",
       "                    --jp-widgets-label-color: white;\n",
       "                    --jp-ui-font-color1: white;\n",
       "                    --jp-layout-color2: #454545;\n",
       "                    background-color: #383838;\n",
       "                }\n",
       "\n",
       "                .geemap-dark .jupyter-button {\n",
       "                    --jp-layout-color3: #383838;\n",
       "                }\n",
       "\n",
       "                .geemap-colab {\n",
       "                    background-color: var(--colab-primary-surface-color, white);\n",
       "                }\n",
       "\n",
       "                .geemap-colab .jupyter-button {\n",
       "                    --jp-layout-color3: var(--colab-primary-surface-color, white);\n",
       "                }\n",
       "            </style>\n",
       "            "
      ],
      "text/plain": [
       "<IPython.core.display.HTML object>"
      ]
     },
     "metadata": {},
     "output_type": "display_data"
    },
    {
     "data": {
      "text/plain": [
       "['MAN_DEM_slope_pct_TanDEM_X_150m.asc',\n",
       " 'MAN_ECO_real_estate_EBK_Lamudi_reclass_2024_150m.asc',\n",
       " 'MAN_HYD_water_distance_150m.asc',\n",
       " 'MAN_LIM_districts_GADM4_150m.asc',\n",
       " 'MAN_LIM_exclusion_layer_150m.asc',\n",
       " 'MAN_LIM_non_residential_areas_150m.asc',\n",
       " 'MAN_LOC_airports_cost_OSM_2024.asc',\n",
       " 'MAN_LOC_attractive_areas_cost_OSM_2024.asc',\n",
       " 'MAN_LOC_CBDs_cost_OSM_2024.asc',\n",
       " 'MAN_LOC_health_cost_OSM_2024.asc',\n",
       " 'MAN_LOC_malls_cost_OSM_2024.asc',\n",
       " 'MAN_LOC_markets_cost_OSM_2024.asc',\n",
       " 'MAN_LOC_schools_cost_OSM_2024.asc',\n",
       " 'MAN_LOC_suburban_centres_cost_OSM_2024.asc',\n",
       " 'MAN_POP_density_normal_2000_WDPop_150m.asc',\n",
       " 'MAN_POP_density_normal_2015_WDPop_150m.asc',\n",
       " 'MAN_TRA_roads_OSM_2024_L_all_150m.asc',\n",
       " 'MAN_TRA_roads_OSM_2024_L_distance_normal_150m.asc',\n",
       " 'MAN_URB_distance_urbanisation_2000_EOC_WUF_150m.asc',\n",
       " 'MAN_URB_distance_urbanisation_2015_EOC_WUF_150m.asc',\n",
       " 'MAN_URB_tenure_150m.asc',\n",
       " 'MAN_URB_urbanisation_1985_EOC_WUF_150m.asc',\n",
       " 'MAN_URB_urbanisation_2000_EOC_WUF_150m.asc',\n",
       " 'MAN_URB_urbanisation_2015_EOC_WUF_150m.asc']"
      ]
     },
     "execution_count": 46,
     "metadata": {},
     "output_type": "execute_result"
    }
   ],
   "source": [
    "arcgis_ascii_files = []\n",
    "for file in os.listdir(ascii150_path):\n",
    "    if fnmatch.fnmatch(file, '*.asc'):\n",
    "        arcgis_ascii_files.append(file)\n",
    "arcgis_ascii_files"
   ]
  },
  {
   "cell_type": "code",
   "execution_count": 51,
   "metadata": {},
   "outputs": [
    {
     "data": {
      "text/html": [
       "\n",
       "            <style>\n",
       "                .geemap-dark {\n",
       "                    --jp-widgets-color: white;\n",
       "                    --jp-widgets-label-color: white;\n",
       "                    --jp-ui-font-color1: white;\n",
       "                    --jp-layout-color2: #454545;\n",
       "                    background-color: #383838;\n",
       "                }\n",
       "\n",
       "                .geemap-dark .jupyter-button {\n",
       "                    --jp-layout-color3: #383838;\n",
       "                }\n",
       "\n",
       "                .geemap-colab {\n",
       "                    background-color: var(--colab-primary-surface-color, white);\n",
       "                }\n",
       "\n",
       "                .geemap-colab .jupyter-button {\n",
       "                    --jp-layout-color3: var(--colab-primary-surface-color, white);\n",
       "                }\n",
       "            </style>\n",
       "            "
      ],
      "text/plain": [
       "<IPython.core.display.HTML object>"
      ]
     },
     "metadata": {},
     "output_type": "display_data"
    }
   ],
   "source": [
    "# build a renaming dictionary between the arcgis exports in the arcgis_ascii_files list and the TI City model inputs in the ti_city_files list\n",
    "if case_city == 'MUM':\n",
    "    real_estate_path = 'MUM_ECO_real_estate_sale_LePetit_extended_2019_150m.asc'\n",
    "if case_city == 'JAK':\n",
    "    real_estate_path = 'JAK_ECO_real_estate_sale_LePetit_extended_2019_150m.asc'\n",
    "if case_city == 'MAN':\n",
    "    real_estate_path = 'MAN_ECO_real_estate_EBK_Lamudi_reclass_2024_150m.asc'\n",
    "\n",
    "renaming_dict = {'slope.asc': case_city + '_DEM_slope_pct_TanDEM_X_150m.asc', \n",
    "                 'exclusion.asc': case_city + '_lim_exclusion_layer_150m.asc', \n",
    "                 'districts.asc': case_city + '_lim_districts_gadm4_150m.asc',\n",
    "                 'structureplan.asc': case_city + '_LIM_non_residential_areas_150m.asc', # APS: MUM and JAK still need defining\n",
    "                 #'income.asc': case_city + '_pop_census_income_150m.asc',  # APS 18.11.2024 Need to estimate for Manila\n",
    "                 'airport.asc': case_city + '_LOC_airports_cost_OSM_2024.asc', # APS: until 06/03/2025 '_LOC_airports_OSM_2024_distance_normal_150m.tif',\n",
    "                 'attractive2000.asc': case_city + '_LOC_attractive_areas_cost_OSM_2024.asc', # APS: I need to replace this file with the actual 2000 data\n",
    "                 'attractive2015.asc': case_city + '_LOC_attractive_areas_cost_OSM_2024.asc', # APS: until 06/03/2025 '_LOC_attractive_areas_OSM_2024_distance_normal_150m.tif',\n",
    "                 'cbd.asc': case_city + '_LOC_CBDs_cost_OSM_2024.asc', # APS: until 06/03/2025 '_LOC_CBDs_OSM_2024_distance_normal_150m.tif', \n",
    "                 'healthfacilities.asc': case_city + '_LOC_health_cost_OSM_2024.asc', # APS: until 06/03/2025 '_LOC_health_OSM_2024_distance_normal_150m.tif',  \n",
    "                 'shoppingmalls.asc': case_city + '_LOC_malls_cost_OSM_2024.asc', # APS: until 06/03/2025 '_LOC_malls_OSM_2024_distance_normal_150m.tif',\n",
    "                 'markets.asc': case_city + '_LOC_markets_cost_OSM_2024.asc', # APS: until 06/03/2025 '_LOC_markets_OSM_2024_distance_normal_150m.tif',\n",
    "                 'schools.asc': case_city + '_LOC_schools_cost_OSM_2024.asc', # APS: until 06/03/2025 '_LOC_schools_OSM_2024_distance_normal_150m.tif',\n",
    "                 'suburban.asc': case_city + '_LOC_suburban_centres_cost_OSM_2024.asc', # APS: until 06/03/2025 '_LOC_suburban_centres_OSM_2024_distance_normal_150m.tif',\n",
    "                 'roads.asc': case_city + '_tra_roads_osm_2024_l_distance_normal_150m.asc', \n",
    "                 'bu2000_dist.asc': case_city + '_urb_distance_urbanisation_2000_eoc_wuf_150m.asc', \n",
    "                 'bu2015_dist.asc': case_city + '_urb_distance_urbanisation_2015_eoc_wuf_150m.asc', \n",
    "                 'tenure.asc': case_city + '_urb_tenure_150m.asc', \n",
    "                 'density2000.asc': case_city + '_pop_density_normal_2000_wdpop_150m.asc',\n",
    "                 'density2015.asc': case_city + '_pop_density_normal_2015_wdpop_150m.asc', \n",
    "                 'landvalue.asc': real_estate_path,\n",
    "                 'road-presence.asc': case_city + '_tra_roads_osm_2024_l_all_150m.asc', \n",
    "                 'urban2000.asc': case_city + '_urb_urbanisation_2000_eoc_wuf_150m.asc', \n",
    "                 'urban2015.asc': case_city + '_urb_urbanisation_2015_eoc_wuf_150m.asc',\n",
    "                 'water.asc': case_city + '_hyd_water_distance_150m.asc'\n",
    "}\n",
    "# rasters not included in the above correpondence (yet): income, 1 files are 'stand-ins'"
   ]
  },
  {
   "cell_type": "code",
   "execution_count": 48,
   "metadata": {},
   "outputs": [
    {
     "data": {
      "text/html": [
       "\n",
       "            <style>\n",
       "                .geemap-dark {\n",
       "                    --jp-widgets-color: white;\n",
       "                    --jp-widgets-label-color: white;\n",
       "                    --jp-ui-font-color1: white;\n",
       "                    --jp-layout-color2: #454545;\n",
       "                    background-color: #383838;\n",
       "                }\n",
       "\n",
       "                .geemap-dark .jupyter-button {\n",
       "                    --jp-layout-color3: #383838;\n",
       "                }\n",
       "\n",
       "                .geemap-colab {\n",
       "                    background-color: var(--colab-primary-surface-color, white);\n",
       "                }\n",
       "\n",
       "                .geemap-colab .jupyter-button {\n",
       "                    --jp-layout-color3: var(--colab-primary-surface-color, white);\n",
       "                }\n",
       "            </style>\n",
       "            "
      ],
      "text/plain": [
       "<IPython.core.display.HTML object>"
      ]
     },
     "metadata": {},
     "output_type": "display_data"
    },
    {
     "name": "stdout",
     "output_type": "stream",
     "text": [
      "The renaming dictionary has 23 entries\n",
      "MAN_DEM_slope_pct_TanDEM_X_150m.asc\n",
      "MAN_lim_exclusion_layer_150m.asc\n",
      "MAN_lim_districts_gadm4_150m.asc\n",
      "MAN_LIM_non_residential_areas_150m.asc\n",
      "MAN_LOC_airports_cost_OSM_2024.tif\n",
      "MAN_LOC_attractive_areas_cost_OSM_2024.tif\n",
      "MAN_LOC_attractive_areas_cost_OSM_2024.tif\n",
      "MAN_LOC_CBDs_cost_OSM_2024.tif\n",
      "MAN_LOC_health_cost_OSM_2024.tif\n",
      "MAN_LOC_malls_cost_OSM_2024.tif\n",
      "MAN_LOC_markets_cost_OSM_2024.tif\n",
      "MAN_LOC_schools_cost_OSM_2024.tif\n",
      "MAN_LOC_suburban_centres_cost_OSM_2024.tif\n",
      "MAN_tra_roads_osm_2024_l_distance_normal_150m.asc\n",
      "MAN_urb_distance_urbanisation_2000_eoc_wuf_150m.asc\n",
      "MAN_urb_distance_urbanisation_2015_eoc_wuf_150m.asc\n",
      "MAN_urb_tenure_150m.asc\n",
      "MAN_pop_density_normal_2000_wdpop_150m.asc\n",
      "MAN_pop_density_normal_2015_wdpop_150m.asc\n",
      "MAN_ECO_real_estate_EBK_Lamudi_reclass_2024_150m.asc\n",
      "MAN_tra_roads_osm_2024_l_all_150m.asc\n",
      "MAN_urb_urbanisation_2000_eoc_wuf_150m.asc\n",
      "MAN_urb_urbanisation_2015_eoc_wuf_150m.asc\n"
     ]
    }
   ],
   "source": [
    "print('The renaming dictionary has', len(renaming_dict), 'entries')\n",
    "for i in renaming_dict.values():\n",
    "    print(i)\n"
   ]
  },
  {
   "cell_type": "code",
   "execution_count": 49,
   "metadata": {},
   "outputs": [
    {
     "data": {
      "text/html": [
       "\n",
       "            <style>\n",
       "                .geemap-dark {\n",
       "                    --jp-widgets-color: white;\n",
       "                    --jp-widgets-label-color: white;\n",
       "                    --jp-ui-font-color1: white;\n",
       "                    --jp-layout-color2: #454545;\n",
       "                    background-color: #383838;\n",
       "                }\n",
       "\n",
       "                .geemap-dark .jupyter-button {\n",
       "                    --jp-layout-color3: #383838;\n",
       "                }\n",
       "\n",
       "                .geemap-colab {\n",
       "                    background-color: var(--colab-primary-surface-color, white);\n",
       "                }\n",
       "\n",
       "                .geemap-colab .jupyter-button {\n",
       "                    --jp-layout-color3: var(--colab-primary-surface-color, white);\n",
       "                }\n",
       "            </style>\n",
       "            "
      ],
      "text/plain": [
       "<IPython.core.display.HTML object>"
      ]
     },
     "metadata": {},
     "output_type": "display_data"
    },
    {
     "name": "stdout",
     "output_type": "stream",
     "text": [
      "..\\model\\MAN\\data\\in\n"
     ]
    }
   ],
   "source": [
    "print(ti_city_ascii_path)"
   ]
  },
  {
   "cell_type": "code",
   "execution_count": 52,
   "metadata": {},
   "outputs": [
    {
     "data": {
      "text/html": [
       "\n",
       "            <style>\n",
       "                .geemap-dark {\n",
       "                    --jp-widgets-color: white;\n",
       "                    --jp-widgets-label-color: white;\n",
       "                    --jp-ui-font-color1: white;\n",
       "                    --jp-layout-color2: #454545;\n",
       "                    background-color: #383838;\n",
       "                }\n",
       "\n",
       "                .geemap-dark .jupyter-button {\n",
       "                    --jp-layout-color3: #383838;\n",
       "                }\n",
       "\n",
       "                .geemap-colab {\n",
       "                    background-color: var(--colab-primary-surface-color, white);\n",
       "                }\n",
       "\n",
       "                .geemap-colab .jupyter-button {\n",
       "                    --jp-layout-color3: var(--colab-primary-surface-color, white);\n",
       "                }\n",
       "            </style>\n",
       "            "
      ],
      "text/plain": [
       "<IPython.core.display.HTML object>"
      ]
     },
     "metadata": {},
     "output_type": "display_data"
    },
    {
     "name": "stdout",
     "output_type": "stream",
     "text": [
      "Tried to copy: 23 files\n",
      " Succesfully copied: 23 files\n",
      " The files copied were:\n",
      "..\\model\\MAN\\data\\in\\slope.asc\n",
      "..\\model\\MAN\\data\\in\\exclusion.asc\n",
      "..\\model\\MAN\\data\\in\\districts.asc\n",
      "..\\model\\MAN\\data\\in\\structureplan.asc\n",
      "..\\model\\MAN\\data\\in\\airport.asc\n",
      "..\\model\\MAN\\data\\in\\attractive2000.asc\n",
      "..\\model\\MAN\\data\\in\\attractive2015.asc\n",
      "..\\model\\MAN\\data\\in\\cbd.asc\n",
      "..\\model\\MAN\\data\\in\\healthfacilities.asc\n",
      "..\\model\\MAN\\data\\in\\shoppingmalls.asc\n",
      "..\\model\\MAN\\data\\in\\markets.asc\n",
      "..\\model\\MAN\\data\\in\\schools.asc\n",
      "..\\model\\MAN\\data\\in\\suburban.asc\n",
      "..\\model\\MAN\\data\\in\\roads.asc\n",
      "..\\model\\MAN\\data\\in\\bu2000_dist.asc\n",
      "..\\model\\MAN\\data\\in\\bu2015_dist.asc\n",
      "..\\model\\MAN\\data\\in\\tenure.asc\n",
      "..\\model\\MAN\\data\\in\\density2000.asc\n",
      "..\\model\\MAN\\data\\in\\density2015.asc\n",
      "..\\model\\MAN\\data\\in\\landvalue.asc\n",
      "..\\model\\MAN\\data\\in\\road-presence.asc\n",
      "..\\model\\MAN\\data\\in\\urban2000.asc\n",
      "..\\model\\MAN\\data\\in\\urban2015.asc\n"
     ]
    }
   ],
   "source": [
    "# code adapted from https://www.geeksforgeeks.org/python-shutil-copyfile-method/\n",
    "\n",
    "success_list = []\n",
    "fail_list = []\n",
    "for key in renaming_dict.keys():\n",
    "    source = ascii150_path / renaming_dict[key]\n",
    "    dest = ti_city_ascii_path / key\n",
    "    \n",
    "    try :\n",
    "        shutil.copyfile(source, dest)\n",
    "        success_list.append(dest)\n",
    "    \n",
    "    # If Source is a file but destination is a directory\n",
    "    except IsADirectoryError:\n",
    "        print(\"Source is a file but destination is a directory.\")\n",
    "        fail_list.append(dest)\n",
    "    \n",
    "    # If source and destination are same\n",
    "    except shutil.SameFileError:\n",
    "        print(\"Source and destination represents the same file.\")\n",
    "        fail_list.append(dest)\n",
    "\n",
    "    # If source is a directory but destination is a file\n",
    "    except NotADirectoryError:\n",
    "        print(\"Source is a directory but destination is a file.\")\n",
    "        fail_list.append(dest)\n",
    "    \n",
    "    # For permission related errors\n",
    "    except PermissionError:\n",
    "        print(\"Operation not permitted.\")\n",
    "        fail_list.append(dest)\n",
    "    \n",
    "    # For other errors\n",
    "    except:\n",
    "        print(\"Error occurred while copying file:\\n\", source)\n",
    "        fail_list.append(dest)\n",
    "print('Tried to copy:', len(renaming_dict), 'files\\n', 'Succesfully copied:', len(success_list), 'files\\n','The files copied were:',)\n",
    "print('\\n'.join(''.join(str(sl)) for sl in success_list))\n",
    "if len(fail_list) > 0:\n",
    "    print('Failed to copy:', len(fail_list), 'files\\n','The files not copied were:')\n",
    "    print('\\n'.join(''.join(str(sl)) for sl in fail_list))"
   ]
  },
  {
   "cell_type": "markdown",
   "metadata": {},
   "source": [
    "# The end (for now)."
   ]
  }
 ],
 "metadata": {
  "kernelspec": {
   "display_name": "x",
   "language": "python",
   "name": "python3"
  },
  "language_info": {
   "codemirror_mode": {
    "name": "ipython",
    "version": 3
   },
   "file_extension": ".py",
   "mimetype": "text/x-python",
   "name": "python",
   "nbconvert_exporter": "python",
   "pygments_lexer": "ipython3",
   "version": "3.12.3"
  }
 },
 "nbformat": 4,
 "nbformat_minor": 2
}
